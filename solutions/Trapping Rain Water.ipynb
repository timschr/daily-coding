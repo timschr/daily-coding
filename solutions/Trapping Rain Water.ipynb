{
 "cells": [
  {
   "cell_type": "markdown",
   "metadata": {},
   "source": [
    "# Wasser auffüllen"
   ]
  },
  {
   "cell_type": "markdown",
   "metadata": {},
   "source": [
    "Gegeben ist ein Array X, dass die Höhe einer Säule angibt. Berechen die Menge an Wasser die maximal zwischen den Säulen gesammelt wird. Wert Null entspricht dem Boden, das Wasser läuft über, wenn nach dem höchsten Wert wieder nach unten geht."
   ]
  },
  {
   "cell_type": "code",
   "execution_count": 20,
   "metadata": {},
   "outputs": [],
   "source": [
    "import numpy as np\n",
    "from random import randint\n",
    "import matplotlib.pyplot as plt"
   ]
  },
  {
   "cell_type": "code",
   "execution_count": null,
   "metadata": {},
   "outputs": [],
   "source": []
  },
  {
   "cell_type": "code",
   "execution_count": 104,
   "metadata": {},
   "outputs": [
    {
     "name": "stdout",
     "output_type": "stream",
     "text": [
      "[46, 95, 65, 71, 40, 40, 97, 77, 37, 28, 78, 33, 25, 62, 93, 53, 82, 78, 1, 63, 7, 6, 39, 11, 82, 89, 91, 73, 9, 52, 21, 38, 3, 34, 59, 96, 50, 74, 76, 64, 58, 85, 38, 82, 63, 86, 0, 14, 28, 11, 33, 15, 85, 72, 19, 31, 43, 68, 85, 30, 99, 9, 94, 61, 80, 6, 97, 97, 37, 84, 99, 66, 67, 60, 4, 5, 95, 30, 29, 36, 66, 52, 83, 7, 15, 0, 16, 81, 70, 50, 36, 87, 55, 56, 62, 63, 97, 70, 10, 38]\n"
     ]
    },
    {
     "data": {
      "image/png": "[encoded data removed]",
      "text/plain": [
       "<Figure size 432x288 with 1 Axes>"
      ]
     },
     "metadata": {
      "needs_background": "light"
     },
     "output_type": "display_data"
    }
   ],
   "source": [
    "X = [randint(0, 100) for p in range(0, 100)]\n",
    "Y = [p for p in range(0, 100)]\n",
    "plt.bar(Y,X,1)\n",
    "print(X)"
   ]
  },
  {
   "cell_type": "code",
   "execution_count": 99,
   "metadata": {},
   "outputs": [],
   "source": [
    "def calculate_trapped_water(walls):\n",
    "    if len(walls) < 3:\n",
    "        return 0\n",
    "\n",
    "    total_water_volume = 0\n",
    "\n",
    "    left = 0\n",
    "    right = len(walls) - 1\n",
    "    left_max = 0\n",
    "    right_max = 0\n",
    "\n",
    "    while left <= right:\n",
    "        if walls[left] < walls[right]:\n",
    "            if walls[left] > left_max:\n",
    "                left_max = walls[left]\n",
    "            else:\n",
    "                total_water_volume += left_max - walls[left]\n",
    "            left += 1\n",
    "        else:\n",
    "            if walls[right] > right_max:\n",
    "                right_max = walls[right]\n",
    "            else:\n",
    "                total_water_volume += right_max - walls[right]\n",
    "            right -= 1\n",
    "\n",
    "    return total_water_volume\n"
   ]
  },
  {
   "cell_type": "code",
   "execution_count": 105,
   "metadata": {},
   "outputs": [
    {
     "data": {
      "text/plain": [
       "4263"
      ]
     },
     "execution_count": 105,
     "metadata": {},
     "output_type": "execute_result"
    }
   ],
   "source": [
    "calculate_trapped_water(X)"
   ]
  },
  {
   "cell_type": "code",
   "execution_count": null,
   "metadata": {},
   "outputs": [],
   "source": []
  }
 ],
 "metadata": {
  "kernelspec": {
   "display_name": "Python 3",
   "language": "python",
   "name": "python3"
  },
  "language_info": {
   "codemirror_mode": {
    "name": "ipython",
    "version": 3
   },
   "file_extension": ".py",
   "mimetype": "text/x-python",
   "name": "python",
   "nbconvert_exporter": "python",
   "pygments_lexer": "ipython3",
   "version": "3.7.4"
  }
 },
 "nbformat": 4,
 "nbformat_minor": 2
}
