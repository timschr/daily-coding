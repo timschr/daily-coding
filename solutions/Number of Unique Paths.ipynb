{
 "cells": [
  {
   "cell_type": "markdown",
   "metadata": {},
   "source": [
    "# Number of Unique Paths"
   ]
  },
  {
   "cell_type": "markdown",
   "metadata": {},
   "source": [
    "Given a M X N matrix with your initial position at top-left cell, find the number of possible unique paths to reach the bottom right cell of the matrix from the initial position.\n",
    "\n",
    "Note: Possible moves can be either down or right at any point in time, i.e., we can move to matrix[i+1][j] or matrix[i][j+1] from matrix[i][j].\n",
    "\n",
    "Input: \n",
    "The first line contains an integer T, depicting total number of test cases. Then following T lines contains an two integers N and M depicting the size of the grid."
   ]
  },
  {
   "cell_type": "code",
   "execution_count": 43,
   "metadata": {},
   "outputs": [
    {
     "name": "stdout",
     "output_type": "stream",
     "text": [
      "[[1. 0. 0.]\n",
      " [0. 0. 0.]\n",
      " [0. 0. 1.]]\n"
     ]
    }
   ],
   "source": [
    "import numpy\n",
    "\n",
    "N = 3\n",
    "M = 3\n",
    "\n",
    "matrix = numpy.zeros(shape=(N,M))\n",
    "matrix[0][0] = 1\n",
    "matrix[N-1][M-1] = 1\n",
    "print(matrix)\n",
    "    \n",
    "def unique_paths(N,M):\n",
    "    \n",
    "    if (N<=2 and M <= 2):\n",
    "        return 2\n",
    "    elif (N > 1 and M > 1):\n",
    "        number_path = unique_paths(N-1,M)+unique_paths(N,M-1)\n",
    "    else:\n",
    "        return 1\n",
    "\n",
    "    return number_path\n",
    "    \n",
    "                        "
   ]
  },
  {
   "cell_type": "code",
   "execution_count": 44,
   "metadata": {},
   "outputs": [
    {
     "data": {
      "text/plain": [
       "6"
      ]
     },
     "execution_count": 44,
     "metadata": {},
     "output_type": "execute_result"
    }
   ],
   "source": [
    "unique_paths(N,M)"
   ]
  },
  {
   "cell_type": "code",
   "execution_count": null,
   "metadata": {},
   "outputs": [],
   "source": []
  },
  {
   "cell_type": "code",
   "execution_count": null,
   "metadata": {},
   "outputs": [],
   "source": []
  }
 ],
 "metadata": {
  "kernelspec": {
   "display_name": "Python 3",
   "language": "python",
   "name": "python3"
  },
  "language_info": {
   "codemirror_mode": {
    "name": "ipython",
    "version": 3
   },
   "file_extension": ".py",
   "mimetype": "text/x-python",
   "name": "python",
   "nbconvert_exporter": "python",
   "pygments_lexer": "ipython3",
   "version": "3.7.4"
  }
 },
 "nbformat": 4,
 "nbformat_minor": 2
}
